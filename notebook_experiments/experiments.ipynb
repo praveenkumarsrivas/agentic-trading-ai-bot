{
 "cells": [
  {
   "cell_type": "code",
   "execution_count": 1,
   "id": "9ce0db90",
   "metadata": {},
   "outputs": [
    {
     "name": "stdout",
     "output_type": "stream",
     "text": [
      "ALL ok\n"
     ]
    }
   ],
   "source": [
    "print(\"ALL ok\")"
   ]
  },
  {
   "cell_type": "code",
   "execution_count": 2,
   "id": "edd1ad55",
   "metadata": {},
   "outputs": [],
   "source": [
    "import sys"
   ]
  },
  {
   "cell_type": "code",
   "execution_count": null,
   "id": "b0a395b6",
   "metadata": {},
   "outputs": [],
   "source": []
  }
 ],
 "metadata": {
  "kernelspec": {
   "display_name": "Python 3",
   "language": "python",
   "name": "python3"
  },
  "language_info": {
   "codemirror_mode": {
    "name": "ipython",
    "version": 3
   },
   "file_extension": ".py",
   "mimetype": "text/x-python",
   "name": "python",
   "nbconvert_exporter": "python",
   "pygments_lexer": "ipython3",
   "version": "3.10.17"
  }
 },
 "nbformat": 4,
 "nbformat_minor": 5
}
